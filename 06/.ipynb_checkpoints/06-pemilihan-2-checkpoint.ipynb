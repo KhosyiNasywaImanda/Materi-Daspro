{
 "cells": [
  {
   "cell_type": "markdown",
   "metadata": {
    "collapsed": true
   },
   "source": [
    "NAMA  : KHOSYI NASYWA IMANDA\n",
    "NIM   : 2131710103\n",
    "KELAS : MI-1E\n",
    "\n",
    "## JOBSHEET 6\n",
    "\n",
    "## PEMILIHAN 2\n",
    "\n",
    "### Tujuan\n",
    "\n",
    "Mahasiswa memahami tentang operator logika; Mahasiswa mampu menyelesaikan permasalahan dengan menggunakan sintaks pemilihan bersarang; Mahasiswa mampu membuat sebuah program Java yang memanfaatkan sintaks pemilihan bersarang\n",
    "\n",
    "\n",
    "### Alat dan Bahan\n",
    "+ PC/laptop\n",
    "+ Browser(chrome, firefox, safari)\n",
    "+ Koneksi internet\n",
    "\n",
    "### Praktikum\n",
    "\n",
    "#### Percobaan 1\n",
    "\n",
    "#### Waktu percobaan : 40 menit\n",
    "\n",
    "1. Tambahkan library Scanner, deklarasi Scanner\n",
    "\n",
    "2. Buatlah variabel nilai yang memiliki tipe data int untuk menampung data yang diinput melalui keyboard\n",
    "\n",
    "    ![](images/03.png)"
   ]
  },
  {
   "cell_type": "code",
   "execution_count": 1,
   "metadata": {},
   "outputs": [
    {
     "name": "stdout",
     "output_type": "stream",
     "text": [
      "masukkan nilai ujian (0-100): 95\n"
     ]
    }
   ],
   "source": [
    "import java.util.Scanner;\n",
    "Scanner input = new Scanner (System.in);\n",
    "int nilai;\n",
    "System.out.print(\"masukkan nilai ujian (0-100): \");\n",
    "nilai = input.nextInt();"
   ]
  },
  {
   "cell_type": "markdown",
   "metadata": {},
   "source": [
    "3. Buatlah struktur pengecekan kondisi bersarang. Pengecekan pertama digunakan untuk memastikan bahwa nilai yang dimasukkan berada pada rentang 0 – 100. Jika nilai berada pada rentang 0 – 100, maka akan dilakukan pengecekan status kelulusan mahasiswa, yaitu jika nilai di antara 90 – 100 maka nilainya A, jika nilai di antara 80 – 89 maka nilainya B, jika nilai di antara 60 – 79 maka nilainya C, jika nilai di antara 50 – 59 maka nilainya D, dan jika nilai di antara 0 – 49 maka nilainya E. Sedangkan jika nilai berada di luar rentang 0 – 100, maka ditampilkan informasi bahwa nilai yang dimasukkan tidak valid.\n",
    "\n",
    "    ![](images/04.png)"
   ]
  },
  {
   "cell_type": "code",
   "execution_count": 4,
   "metadata": {},
   "outputs": [
    {
     "name": "stdout",
     "output_type": "stream",
     "text": [
      "Nilai A,EXCELLENT!\n"
     ]
    }
   ],
   "source": [
    "if(nilai >= 0 && nilai <= 100 ){\n",
    "    if(nilai >= 90 && nilai <= 100 ){\n",
    "        System.out.println(\"Nilai A,EXCELLENT!\");\n",
    "    } else if (nilai >= 80 && nilai <= 89 ){\n",
    "        System.out.println(\"Nilai B, Pertahankan prestasi anda!\");\n",
    "    } else if (nilai >= 60 && nilai <= 79 ){\n",
    "        System.out.println(\"Nilai C, Tingkatkan prestasi anda!\");\n",
    "    } else if (nilai >= 50 && nilai <= 59 ){\n",
    "        System.out.println(\"Nilai D, Tingkatkan belajar Anda!\");\n",
    "    } else {\n",
    "        System.out.println(\"Nilai E, Anda tidak lulus!\");\n",
    "    }\n",
    "}else {\n",
    "    System.out.println(\"Nilai yang anda masukkan tidak valid!\");\n",
    "}"
   ]
  },
  {
   "cell_type": "markdown",
   "metadata": {},
   "source": [
    "> Penjelasan kode program percobaan 1"
   ]
  },
  {
   "cell_type": "markdown",
   "metadata": {},
   "source": [
    "##### Pertanyaan\n",
    "\n",
    "1. Modifikasi kode program pada Percobaan 1 sehingga jika nilai yang dimasukkan kurang dari 0 akan ditampilkan output “Nilai yang Anda masukkan kurang dari 0” dan jika nilai yang dimasukkan lebih dari 100 akan ditampilkan output “Nilai yang Anda masukkan lebih dari 100”!\n",
    "\n",
    "2. Jelaskan fungsi sintaks if (nilai >= 0 && nilai <= 100)!\n",
    "\n",
    "3. Ubah operator && menjadi || pada sintaks if (nilai >= 0 && nilai <= 100). Jalankan program dengan memasukkan nilai = 105. Amati apa yang terjadi! Mengapa hasilnya demikian?\n",
    "\n",
    "##\n",
    "JAWABAN SAYA DIBAWAH INI :\n",
    "2. fungsi sintaks dari if (nilai >= 0 && nilai <=100) yaitu sebagai kondisi yang pertama kali untuk diseleksi\n",
    "3. saat dimasukkan nilai = 105 , output yang dihasikan adalah E , karena angka 105 diluar dari pernyataan ke 1 ."
   ]
  },
  {
   "cell_type": "code",
   "execution_count": 9,
   "metadata": {
    "scrolled": true
   },
   "outputs": [
    {
     "name": "stdout",
     "output_type": "stream",
     "text": [
      "masukkan nilai ujian (0-100): 105\n",
      "Nilai yang anda masukkan tidak valid!\n",
      "Nilai yang Anda masukkan lebih dari 100\n"
     ]
    }
   ],
   "source": [
    "import java.util.Scanner;\n",
    "Scanner input = new Scanner (System.in);\n",
    "int nilai;\n",
    "System.out.print (\"masukkan nilai ujian (0-100): \");\n",
    "nilai = input.nextInt();\n",
    "\n",
    "if(nilai >= 0 && nilai <= 100 ){\n",
    "    if(nilai >= 90 && nilai <= 100 ){\n",
    "        System.out.println(\"Nilai A,EXCELLENT!\");\n",
    "    } else if (nilai >= 80 && nilai <= 89 ){\n",
    "        System.out.println(\"Nilai B, Pertahankan prestasi anda!\");\n",
    "    } else if (nilai >= 60 && nilai <= 79 ){\n",
    "        System.out.println(\"Nilai C, Tingkatkan prestasi anda!\");\n",
    "    } else if (nilai >= 50 && nilai <= 59 ){\n",
    "        System.out.println(\"Nilai D, Tingkatkan belajar Anda!\");\n",
    "    } else {\n",
    "        System.out.println(\"Nilai E, Anda tidak lulus!\");\n",
    "    }\n",
    "}else {\n",
    "    System.out.println(\"Nilai yang anda masukkan tidak valid!\");\n",
    "}\n",
    "if(nilai<0){\n",
    "    System.out.println(\"Nilai yang Anda masukkan kurang dari 0\");\n",
    "}else if (nilai > 100){\n",
    "    System.out.println(\"Nilai yang Anda masukkan lebih dari 100\");\n",
    "}"
   ]
  },
  {
   "cell_type": "code",
   "execution_count": 6,
   "metadata": {},
   "outputs": [
    {
     "name": "stdout",
     "output_type": "stream",
     "text": [
      "masukkan nilai ujian (0-100): 105\n",
      "Nilai E, Anda tidak lulus!\n"
     ]
    }
   ],
   "source": [
    "import java.util.Scanner;\n",
    "Scanner input = new Scanner (System.in);\n",
    "int nilai;\n",
    "System.out.print(\"masukkan nilai ujian (0-100): \");\n",
    "nilai = input.nextInt();\n",
    "\n",
    "if(nilai >= 0 || nilai <= 100 ){\n",
    "    if(nilai >= 90 && nilai <= 100 ){\n",
    "        System.out.println(\"Nilai A,EXCELLENT!\");\n",
    "    } else if (nilai >= 80 && nilai <= 89 ){\n",
    "        System.out.println(\"Nilai B, Pertahankan prestasi anda!\");\n",
    "    } else if (nilai >= 60 && nilai <= 79 ){\n",
    "        System.out.println(\"Nilai C, Tingkatkan prestasi anda!\");\n",
    "    } else if (nilai >= 50 && nilai <= 59 ){\n",
    "        System.out.println(\"Nilai D, Tingkatkan belajar Anda!\");\n",
    "    } else {\n",
    "        System.out.println(\"Nilai E, Anda tidak lulus!\");\n",
    "    }\n",
    "}else {\n",
    "    System.out.println(\"Nilai yang anda masukkan tidak valid!\");\n",
    "}\n"
   ]
  },
  {
   "cell_type": "markdown",
   "metadata": {},
   "source": [
    "#### Percobaan 2\n",
    "\n",
    "#### Waktu percobaan : 40 menit"
   ]
  },
  {
   "cell_type": "markdown",
   "metadata": {},
   "source": [
    "1. Perhatikan flowchart dibawah ini!\n",
    "\n",
    "![](images/02.png)\n",
    "\n",
    "> Flowchart tersebut digunakan untuk menghitung gaji bersih seseorang setelah dipotong pajak sesuai dengan kategorinya (pekerja dan pebisnis) dan besarnya penghasilan. "
   ]
  },
  {
   "cell_type": "markdown",
   "metadata": {},
   "source": [
    "2. Tambahkan library Scanner dan deklarasi Scanner\n",
    "\n",
    "3. Deklarasikan variabel kategori, penghasilan, gajiBersih, dan pajak\n",
    "\n",
    "    ![](images/05.png)"
   ]
  },
  {
   "cell_type": "code",
   "execution_count": 2,
   "metadata": {},
   "outputs": [
    {
     "name": "stdout",
     "output_type": "stream",
     "text": [
      "masukkan kategori: pekerja\n",
      "masukkan besarnya penghasilan: 2500000\n"
     ]
    }
   ],
   "source": [
    "import java.util.Scanner;\n",
    "Scanner input = new Scanner (System.in);\n",
    "String kategori;\n",
    "int penghasilan, gajibersih;\n",
    "double pajak = 0;\n",
    "\n",
    "System.out.print (\"masukkan kategori: \");\n",
    "kategori = input.nextLine();\n",
    "System.out.print (\"masukkan besarnya penghasilan: \");\n",
    "penghasilan = input.nextInt();\n"
   ]
  },
  {
   "cell_type": "markdown",
   "metadata": {},
   "source": [
    "4. Buatlah struktur pengecekan kondisi bersarang. Pengecekan pertama digunakan untuk mengecek kategori (pekerja atau pebisnis). Selanjutnya dilakukan pengecekan kedua untuk menentukan besarnya pajak berdasarkan penghasilan yang telah dimasukkan.Kemudian tambahkan kode program untuk menghitung gaji bersih yang diterima setelah dipotong pajak!\n",
    "\n",
    "    ![](images/06.png)"
   ]
  },
  {
   "cell_type": "code",
   "execution_count": 8,
   "metadata": {},
   "outputs": [
    {
     "name": "stdout",
     "output_type": "stream",
     "text": [
      "Gaji bersih yang Anda terima: 2125000\n"
     ]
    }
   ],
   "source": [
    "if (kategori.equalsIgnoreCase(\"pekerja\")){\n",
    "    if (penghasilan <= 2000000){\n",
    "        pajak = 0.1;\n",
    "    } else if (penghasilan <= 3000000){\n",
    "        pajak = 0.15;\n",
    "    } else {\n",
    "        pajak = 0.2;\n",
    "    }\n",
    "    gajibersih = (int) (penghasilan - (penghasilan*pajak));\n",
    "    System.out.println(\"Gaji bersih yang Anda terima: \" + gajibersih);\n",
    "    \n",
    "}else if (kategori.equalsIgnoreCase(\"pebisnis\")){\n",
    "    if (penghasilan <= 2500000){\n",
    "        pajak = 0.15;\n",
    "    } else if (penghasilan <= 3500000){\n",
    "        pajak = 0.2;\n",
    "    } else {\n",
    "        pajak = 0.25;\n",
    "    }\n",
    "    gajibersih = (int) (penghasilan - (penghasilan * pajak));\n",
    "    System.out.println(\"Gaji bersi yang Anda terima: \" + gajibersih);\n",
    "} else {\n",
    "    System.out.println(\"Kategori yang Anda masukkan salah! \");\n",
    "}"
   ]
  },
  {
   "cell_type": "markdown",
   "metadata": {},
   "source": [
    "5. Jalankan program di atas. Amati apa yang terjadi!"
   ]
  },
  {
   "cell_type": "markdown",
   "metadata": {},
   "source": [
    "> Penjelasan kode program percobaan 2"
   ]
  },
  {
   "cell_type": "markdown",
   "metadata": {},
   "source": [
    "##### Pertanyaan\n",
    "\n",
    "1. Jalankan program dengan memasukkan kategori = pekerja dan penghasilan = 2048485. Amati apa yang terjadi! Mengapa angka di belakang koma tidak ditampilkan?\n",
    "\n",
    "2. Jelaskan fungsi dari (int) pada sintaks:\n",
    "```\n",
    "gajiBersih = (int) (penghasilan - (penghasilan * pajak));\n",
    "```\n",
    "\n",
    "3.\tJalankan program dengan memasukkan kategori = pebisnis dan penghasilan = 2000000. Amati apa yang terjadi! Apa kegunaan dari equalsIgnoreCase?\n",
    "\n",
    "4.\tUbah equalsIgnoreCase menjadi equals, kemudian jalankan program dengan memasukkan kategori = pebisnis dan penghasilan = 2000000. Amati apa yang terjadi! Mengapa hasilnya demikian? Apa kegunaan dari equals?\n",
    "\n",
    "###\n",
    "JAWABAN SAYA \n",
    "1. Angka dibelakang koma tidak ditampilkan karena jenis data yang digunakan adalah interger bukan double\n",
    "2. Fungsi dari (int) adalah untuk mengkonversi sebuah tipe data dari double ke integer agar \n",
    "dapat dilakukan perhitungan dan tidak terjadi kesalahan dalam melakukan konversi antar \n",
    "tipe data\n",
    "3. equalIgnorecase adalah tidak melihat huruf besar kecilnya atau sama pada program yang \n",
    "seharusnya menggunakan huruf kecil. Dan huruf pada java sangat sensitif terhadap besar \n",
    "ataupun kecilnya\n",
    "4.Equals merupakan == jadi jika menggunakan hanya operator equals saja maka kata yang \n",
    "digunakan USER besar maupun kecilnya huruf harus sama dengan yang apa yang \n",
    "diinginkan Programmer. \n"
   ]
  },
  {
   "cell_type": "code",
   "execution_count": 10,
   "metadata": {},
   "outputs": [
    {
     "name": "stdout",
     "output_type": "stream",
     "text": [
      "masukkan kategori: pekerja\n",
      "masukkan besarnya penghasilan: 2048485\n"
     ]
    }
   ],
   "source": [
    "import java.util.Scanner;\n",
    "Scanner input = new Scanner (System.in);\n",
    "String kategori;\n",
    "int penghasilan, gajibersih;\n",
    "double pajak = 0;\n",
    "\n",
    "System.out.print (\"masukkan kategori: \");\n",
    "kategori = input.nextLine();\n",
    "System.out.print (\"masukkan besarnya penghasilan: \");\n",
    "penghasilan = input.nextInt();\n"
   ]
  },
  {
   "cell_type": "code",
   "execution_count": 12,
   "metadata": {},
   "outputs": [
    {
     "name": "stdout",
     "output_type": "stream",
     "text": [
      "masukkan kategori: pebisnis\n",
      "masukkan besarnya penghasilan: 2000000\n",
      "Gaji bersi yang Anda terima: 1700000\n"
     ]
    }
   ],
   "source": [
    "import java.util.Scanner;\n",
    "Scanner input = new Scanner (System.in);\n",
    "String kategori;\n",
    "int penghasilan, gajibersih;\n",
    "double pajak = 0;\n",
    "\n",
    "System.out.print (\"masukkan kategori: \");\n",
    "kategori = input.nextLine();\n",
    "System.out.print (\"masukkan besarnya penghasilan: \");\n",
    "penghasilan = input.nextInt();\n",
    "\n",
    "if (kategori.equalsIgnoreCase(\"pekerja\")){\n",
    "    if (penghasilan <= 2000000){\n",
    "        pajak = 0.1;\n",
    "    } else if (penghasilan <= 3000000){\n",
    "        pajak = 0.15;\n",
    "    } else {\n",
    "        pajak = 0.2;\n",
    "    }\n",
    "    gajibersih = (int) (penghasilan - (penghasilan*pajak));\n",
    "    System.out.println(\"Gaji bersih yang Anda terima: \" + gajibersih);\n",
    "    \n",
    "}else if (kategori.equalsIgnoreCase(\"pebisnis\")){\n",
    "    if (penghasilan <= 2500000){\n",
    "        pajak = 0.15;\n",
    "    } else if (penghasilan <= 3500000){\n",
    "        pajak = 0.2;\n",
    "    } else {\n",
    "        pajak = 0.25;\n",
    "    }\n",
    "    gajibersih = (int) (penghasilan - (penghasilan * pajak));\n",
    "    System.out.println(\"Gaji bersi yang Anda terima: \" + gajibersih);\n",
    "} else {\n",
    "    System.out.println(\"Kategori yang Anda masukkan salah! \");\n",
    "}"
   ]
  },
  {
   "cell_type": "markdown",
   "metadata": {},
   "source": [
    "### Tugas\n",
    "\n",
    "#### Waktu pengerjaan Tugas: 140 menit\n",
    "\n",
    "1. Buatlah program kalkulator sederhana menggunakan bahasa pemrograman Java. User akan menginputkan dua buah bilangan riil dan satu buah operator aritmatika (+, -, *, atau /), kemudian program akan mengoperasikan dua bilangan tersebut dengan operator yang sesuai. Petunjuk: gunakan pernyataan switch-case.\n",
    "Contoh tampilan program:\n",
    "\n",
    "```\n",
    "Masukkan bilangan pertama: 2.5\n",
    "Masukkan operator (+, -, *, /): *\n",
    "Masukkan bilangan kedua: 4\n",
    "2.5 * 4.0 = 10.0\n",
    "\n",
    "```"
   ]
  },
  {
   "cell_type": "code",
   "execution_count": 4,
   "metadata": {},
   "outputs": [
    {
     "name": "stdout",
     "output_type": "stream",
     "text": [
      "Masukkan angka pertama: 2,5\n",
      "Masukkan angka kedua: 4\n",
      "Masukkan operator (+-*/): *\n",
      "2.5 * 4.0 = 10.0\n"
     ]
    }
   ],
   "source": [
    "import java.util.Scanner;\n",
    "Scanner sc = new Scanner (System.in);\n",
    "double angka1, angka2 , hasil;\n",
    "char operator;\n",
    "\n",
    "System.out.print(\"Masukkan angka pertama: \");\n",
    "angka1 = sc.nextDouble();\n",
    "System.out.print(\"Masukkan angka kedua: \");\n",
    "angka2 = sc.nextDouble();\n",
    "System.out.print(\"Masukkan operator (+-*/): \");\n",
    "operator = sc.next().charAt(0);\n",
    "\n",
    "switch (operator){\n",
    "    case '+':\n",
    "    hasil = angka1 + angka2;\n",
    "    System.out.println(angka1 + \" + \" + angka2 + \" = \" + hasil);\n",
    "    break;\n",
    "    case '-':\n",
    "    hasil = angka1 - angka2;\n",
    "    System.out.println(angka1 + \" - \" + angka2 + \" = \" + hasil);\n",
    "    break;\n",
    "    case '*':\n",
    "    hasil = angka1 * angka2;\n",
    "    System.out.println(angka1 + \" * \" + angka2 + \" = \" + hasil);\n",
    "    break;\n",
    "    case '/':\n",
    "    hasil = angka1 / angka2;\n",
    "    System.out.println(angka1 + \" / \" + angka2 + \" = \" + hasil);\n",
    "    break;\n",
    "    default:\n",
    "    System.out.println(\"Operator yang Anda masukkan salah\");\n",
    "}\n"
   ]
  },
  {
   "cell_type": "markdown",
   "metadata": {},
   "source": [
    "2. Dengan menggunakan tiga nilai yang mewakili panjang tiga sisi sebuah segitiga, tentukan apakah segitiga tersebut sama sisi (ketiga sisinya bernilai sama), sama kaki (kedua sisinya bernilai sama), atau sembarang (tidak ada sisi yang bernilai sama)! "
   ]
  },
  {
   "cell_type": "code",
   "execution_count": 21,
   "metadata": {},
   "outputs": [
    {
     "name": "stdout",
     "output_type": "stream",
     "text": [
      "masukkan panjang sisi 1 pada segitiga: 10\n",
      "masukkan panjang sisi 2 pada segitiga: 10\n",
      "masukkan panjang sisi 3 pada segitiga: 10\n",
      "Segitiga sama sisi\n"
     ]
    }
   ],
   "source": [
    "import java.util.Scanner;\n",
    "Scanner input = new Scanner (System.in);\n",
    "int sisi1,sisi2,sisi3;\n",
    "\n",
    "System.out.print(\"masukkan panjang sisi 1 pada segitiga: \");\n",
    "sisi1 = input.nextInt();\n",
    "System.out.print(\"masukkan panjang sisi 2 pada segitiga: \");\n",
    "sisi2 = input.nextInt();\n",
    "System.out.print(\"masukkan panjang sisi 3 pada segitiga: \");\n",
    "sisi3 = input.nextInt();\n",
    "\n",
    "if(sisi1 == sisi2 && sisi2 == sisi3 && sisi1 == sisi3){\n",
    "    System.out.println(\"Segitiga sama sisi\");\n",
    "}else if(sisi1 == sisi2 || sisi2 == sisi3 || sisi1 == sisi3){\n",
    "    System.out.println(\"Segitiga sama kaki\");\n",
    "}else{\n",
    "    System.out.println(\"segitiga sembarang\");\n",
    "}"
   ]
  },
  {
   "cell_type": "markdown",
   "metadata": {},
   "source": [
    "## 3. Warung Padang Gembira meminta Anda membuat sebuah program untuk menerima pesanan dari internet. Program yang Anda buat meminta user untuk memasukkan nama makanan dan harga. Setelah itu, user ditawarkan untuk menggunakan pengiriman ekspres. Jika pengguna menolak, maka jenis pengiriman yang digunakan adalah pengiriman reguler. Biaya pengiriman reguler untuk harga makanan kurang dari Rp 100.000 adalah Rp 20.000, sedangkan untuk harga makanan sama dengan atau lebih dari Rp 100.000 biaya pengirimannya adalah Rp 30.000. Untuk jenis pengiriman ekspres, tambahkan biaya tambahan sebesar Rp 25.000 dari standar biaya pengiriman reguler. Tampilkan struk yang berisi nama makanan yang dibeli + harga, biaya pman, dan total yang harus dibayar!\n",
    "Contoh hasil output program:\n",
    "\n",
    "```\n",
    "Masukkan nama makanan: Tuna salad\n",
    "Masukkan harga makanan: Rp 115000\n",
    "Apakah Anda ingin pengiriman ekspres (0 = tidak, 1 = ya)? 0\n",
    "\n",
    "STRUK PEMBELIAN\n",
    "Tuna salad        Rp 115000\n",
    "Biaya pengiriman  Rp 30000\n",
    "TOTAL             Rp 145000\n",
    "\n",
    "```\n",
    "\n",
    "```\n",
    "Masukkan nama makanan: Beef bulgogi\n",
    "Masukkan harga makanan: Rp 78000\n",
    "Apakah Anda ingin pengiriman ekspres (0 = tidak, 1 = ya)? 1\n",
    "\n",
    "STRUK PEMBELIAN\n",
    "Beef bulgogi      Rp 115000\n",
    "Biaya pengiriman  Rp 45000\n",
    "TOTAL             Rp 123000\n",
    "\n",
    "```\n",
    "\n"
   ]
  },
  {
   "cell_type": "code",
   "execution_count": 16,
   "metadata": {},
   "outputs": [
    {
     "name": "stdout",
     "output_type": "stream",
     "text": [
      "Masukkan nama makanan: \n",
      "beff burge cheese\n",
      "Masukkan harga makanan: \n",
      "125000\n",
      "Apakah Anda akan ingin pengiriman ekspres (0 = tidak , 1 = ya)?\n",
      "1\n",
      "Total biayanya yaitu: 180000\n"
     ]
    }
   ],
   "source": [
    "import java.util.Scanner;\n",
    "Scanner input = new Scanner (System.in);\n",
    "String jenisMakanan,tindakan;\n",
    "int hargaMakanan,biayaTambahan,total;\n",
    "\n",
    "System.out.println(\"Masukkan nama makanan: \");\n",
    "jenisMakanan= input.nextLine();\n",
    "System.out.println(\"Masukkan harga makanan: \");\n",
    "hargaMakanan = input.nextInt();\n",
    "System.out.println(\"Apakah Anda akan ingin pengiriman ekspres (0 = tidak , 1 = ya)?\");\n",
    "tindakan = input.next();\n",
    "\n",
    "if (tindakan.equalsIgnoreCase(\"0\")){\n",
    "    if (hargaMakanan < 100000){\n",
    "        biayaTambahan = 20000;\n",
    "    } else if (hargaMakanan >= 100000){\n",
    "        biayaTambahan = 30000;\n",
    "    } else {\n",
    "        biayaTambahan = 0;\n",
    "    }\n",
    "    total = (int) (hargaMakanan + biayaTambahan);\n",
    "    System.out.println(\"Total biayanya yaitu : \" + total);\n",
    "    \n",
    "}else if (tindakan.equalsIgnoreCase(\"1\")){\n",
    "    if (hargaMakanan < 100000){\n",
    "        biayaTambahan = 45000;\n",
    "    } else if (hargaMakanan >= 100000){\n",
    "        biayaTambahan = 55000;\n",
    "    } else {\n",
    "        biayaTambahan = 0;\n",
    "    }\n",
    "    total = hargaMakanan + biayaTambahan;\n",
    "    System.out.println(\"Total biayanya yaitu: \" + total);\n",
    "} else {\n",
    "    System.out.println(\"Anda belum berbelanja\");\n",
    "}"
   ]
  },
  {
   "cell_type": "markdown",
   "metadata": {},
   "source": [
    "4. Perhatikan flowchart berikut ini!\n",
    "\n",
    "![](images/01.png)\n",
    "\n",
    "> Buatlah program sesuai dengan flowchart diatas!"
   ]
  },
  {
   "cell_type": "code",
   "execution_count": 26,
   "metadata": {},
   "outputs": [
    {
     "name": "stdout",
     "output_type": "stream",
     "text": [
      "Masukkan umur anda : 19\n",
      "Masukkan status bekerja (0= tidak , 1 = iya ): 1\n",
      "Masukkan pendapatan perbulan: 2000000\n",
      "Masukkan jumlah tanggungan: \n",
      "4\n",
      "Biaya hidup anda : 500000Penduduk miskin\n"
     ]
    }
   ],
   "source": [
    "import java.util.Scanner;\n",
    "Scanner input = new Scanner(System.in);\n",
    "int umur,pendapatan,tanggungan, biayaHidup ,statusSekolah, statusBekerja;\n",
    "System.out.print(\"Masukkan umur anda : \");\n",
    "umur = input.nextInt();\n",
    "if(umur>=18){\n",
    "    System.out.print(\"Masukkan status bekerja (0= tidak , 1 = iya ): \");\n",
    "    statusBekerja = input.nextInt();\n",
    "    if (statusBekerja==1){\n",
    "        System.out.print(\"Masukkan pendapatan perbulan: \");\n",
    "        pendapatan = input.nextInt();\n",
    "        System.out.print(\"Masukkan jumlah tanggungan: \");\n",
    "        tanggungan = input.nextInt();\n",
    "        biayaHidup = pendapatan/tanggungan ;\n",
    "        System.out.print(\"Biaya hidup anda : \" + biayaHidup);\n",
    "        if(biayaHidup <=30000&&statusBekerja == 1){\n",
    "            System.out.println(\"Bukan Pendidikan miskin \");\n",
    "    }else if (statusSekolah == 0) {\n",
    "            System.out.println(\"Penduduk miskin\");\n",
    "     }\n",
    "            \n",
    "    }\n",
    "}"
   ]
  },
  {
   "cell_type": "code",
   "execution_count": null,
   "metadata": {},
   "outputs": [],
   "source": []
  }
 ],
 "metadata": {
  "kernelspec": {
   "display_name": "Java",
   "language": "java",
   "name": "java"
  },
  "language_info": {
   "codemirror_mode": "java",
   "file_extension": ".jshell",
   "mimetype": "text/x-java-source",
   "name": "Java",
   "pygments_lexer": "java",
   "version": "11.0.4+10-LTS"
  },
  "nteract": {
   "version": "nteract-on-jupyter@2.1.3"
  }
 },
 "nbformat": 4,
 "nbformat_minor": 1
}
